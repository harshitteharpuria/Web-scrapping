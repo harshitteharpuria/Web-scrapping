{
 "cells": [
  {
   "cell_type": "markdown",
   "id": "bab9c5c0-9f1b-4efd-b811-253bc392ae1b",
   "metadata": {},
   "source": [
    "Advance Web scrapping"
   ]
  },
  {
   "cell_type": "raw",
   "id": "eb0a2ca5-efee-4f41-9076-2376198adb4b",
   "metadata": {},
   "source": [
    "Importing libraries"
   ]
  },
  {
   "cell_type": "code",
   "execution_count": 26,
   "id": "592be996-b959-43d8-8c45-f8882dff8e0a",
   "metadata": {},
   "outputs": [],
   "source": [
    "import requests\n",
    "from bs4 import BeautifulSoup\n",
    "import pandas as pd\n",
    "import os"
   ]
  },
  {
   "cell_type": "code",
   "execution_count": 27,
   "id": "b070f4df-fb53-4272-be9a-99a67e66e520",
   "metadata": {},
   "outputs": [],
   "source": [
    "df=pd.read_excel(\"Input.xlsx\")"
   ]
  },
  {
   "cell_type": "code",
   "execution_count": 28,
   "id": "fcb93404-5131-4a16-950c-087d24244d94",
   "metadata": {},
   "outputs": [],
   "source": [
    "output_directory=\"extracted data\"\n",
    "os.mkdir(output_directory)"
   ]
  },
  {
   "cell_type": "code",
   "execution_count": 29,
   "id": "7c424ad5-6772-4868-a46e-07d4c0aad6be",
   "metadata": {},
   "outputs": [
    {
     "name": "stdout",
     "output_type": "stream",
     "text": [
      "extracted data\\blackassign0001.txt is extcracted from https://insights.blackcoffer.com/rising-it-cities-and-its-impact-on-the-economy-environment-infrastructure-and-city-life-by-the-year-2040-2/\n",
      "extracted data\\blackassign0002.txt is extcracted from https://insights.blackcoffer.com/rising-it-cities-and-their-impact-on-the-economy-environment-infrastructure-and-city-life-in-future/\n",
      "extracted data\\blackassign0003.txt is extcracted from https://insights.blackcoffer.com/internet-demands-evolution-communication-impact-and-2035s-alternative-pathways/\n",
      "extracted data\\blackassign0004.txt is extcracted from https://insights.blackcoffer.com/rise-of-cybercrime-and-its-effect-in-upcoming-future/\n",
      "extracted data\\blackassign0005.txt is extcracted from https://insights.blackcoffer.com/ott-platform-and-its-impact-on-the-entertainment-industry-in-future/\n",
      "extracted data\\blackassign0006.txt is extcracted from https://insights.blackcoffer.com/the-rise-of-the-ott-platform-and-its-impact-on-the-entertainment-industry-by-2040/\n",
      "extracted data\\blackassign0007.txt is extcracted from https://insights.blackcoffer.com/rise-of-cyber-crime-and-its-effects/\n",
      "extracted data\\blackassign0008.txt is extcracted from https://insights.blackcoffer.com/rise-of-internet-demand-and-its-impact-on-communications-and-alternatives-by-the-year-2035-2/\n",
      "extracted data\\blackassign0009.txt is extcracted from https://insights.blackcoffer.com/rise-of-cybercrime-and-its-effect-by-the-year-2040-2/\n",
      "extracted data\\blackassign0010.txt is extcracted from https://insights.blackcoffer.com/rise-of-cybercrime-and-its-effect-by-the-year-2040/\n",
      "extracted data\\blackassign0011.txt is extcracted from https://insights.blackcoffer.com/rise-of-internet-demand-and-its-impact-on-communications-and-alternatives-by-the-year-2035/\n",
      "extracted data\\blackassign0012.txt is extcracted from https://insights.blackcoffer.com/rise-of-telemedicine-and-its-impact-on-livelihood-by-2040-3-2/\n",
      "extracted data\\blackassign0013.txt is extcracted from https://insights.blackcoffer.com/rise-of-e-health-and-its-impact-on-humans-by-the-year-2030/\n",
      "extracted data\\blackassign0014.txt is extcracted from https://insights.blackcoffer.com/rise-of-e-health-and-its-imapct-on-humans-by-the-year-2030-2/\n",
      "extracted data\\blackassign0015.txt is extcracted from https://insights.blackcoffer.com/rise-of-telemedicine-and-its-impact-on-livelihood-by-2040-2/\n",
      "extracted data\\blackassign0016.txt is extcracted from https://insights.blackcoffer.com/rise-of-telemedicine-and-its-impact-on-livelihood-by-2040-2-2/\n",
      "extracted data\\blackassign0017.txt is extcracted from https://insights.blackcoffer.com/rise-of-chatbots-and-its-impact-on-customer-support-by-the-year-2040/\n",
      "extracted data\\blackassign0018.txt is extcracted from https://insights.blackcoffer.com/rise-of-e-health-and-its-imapct-on-humans-by-the-year-2030/\n",
      "extracted data\\blackassign0019.txt is extcracted from https://insights.blackcoffer.com/how-does-marketing-influence-businesses-and-consumers/\n",
      "extracted data\\blackassign0020.txt is extcracted from https://insights.blackcoffer.com/how-advertisement-increase-your-market-value/\n",
      "extracted data\\blackassign0021.txt is extcracted from https://insights.blackcoffer.com/negative-effects-of-marketing-on-society/\n",
      "extracted data\\blackassign0022.txt is extcracted from https://insights.blackcoffer.com/how-advertisement-marketing-affects-business/\n",
      "extracted data\\blackassign0023.txt is extcracted from https://insights.blackcoffer.com/rising-it-cities-will-impact-the-economy-environment-infrastructure-and-city-life-by-the-year-2035/\n",
      "extracted data\\blackassign0024.txt is extcracted from https://insights.blackcoffer.com/rise-of-ott-platform-and-its-impact-on-entertainment-industry-by-the-year-2030/\n",
      "extracted data\\blackassign0025.txt is extcracted from https://insights.blackcoffer.com/rise-of-electric-vehicles-and-its-impact-on-livelihood-by-2040/\n",
      "extracted data\\blackassign0026.txt is extcracted from https://insights.blackcoffer.com/rise-of-electric-vehicle-and-its-impact-on-livelihood-by-the-year-2040/\n",
      "extracted data\\blackassign0027.txt is extcracted from https://insights.blackcoffer.com/oil-prices-by-the-year-2040-and-how-it-will-impact-the-world-economy/\n",
      "extracted data\\blackassign0028.txt is extcracted from https://insights.blackcoffer.com/an-outlook-of-healthcare-by-the-year-2040-and-how-it-will-impact-human-lives/\n",
      "extracted data\\blackassign0029.txt is extcracted from https://insights.blackcoffer.com/ai-in-healthcare-to-improve-patient-outcomes/\n",
      "extracted data\\blackassign0030.txt is extcracted from https://insights.blackcoffer.com/what-if-the-creation-is-taking-over-the-creator/\n",
      "extracted data\\blackassign0031.txt is extcracted from https://insights.blackcoffer.com/what-jobs-will-robots-take-from-humans-in-the-future/\n",
      "extracted data\\blackassign0032.txt is extcracted from https://insights.blackcoffer.com/will-machine-replace-the-human-in-the-future-of-work/\n",
      "extracted data\\blackassign0033.txt is extcracted from https://insights.blackcoffer.com/will-ai-replace-us-or-work-with-us/\n",
      "extracted data\\blackassign0034.txt is extcracted from https://insights.blackcoffer.com/man-and-machines-together-machines-are-more-diligent-than-humans-blackcoffe/\n",
      "extracted data\\blackassign0035.txt is extcracted from https://insights.blackcoffer.com/in-future-or-in-upcoming-years-humans-and-machines-are-going-to-work-together-in-every-field-of-work/\n",
      "extracted data\\blackassign0037.txt is extcracted from https://insights.blackcoffer.com/how-machine-learning-will-affect-your-business/\n",
      "extracted data\\blackassign0038.txt is extcracted from https://insights.blackcoffer.com/deep-learning-impact-on-areas-of-e-learning/\n",
      "extracted data\\blackassign0039.txt is extcracted from https://insights.blackcoffer.com/how-to-protect-future-data-and-its-privacy-blackcoffer/\n",
      "extracted data\\blackassign0040.txt is extcracted from https://insights.blackcoffer.com/how-machines-ai-automations-and-robo-human-are-effective-in-finance-and-banking/\n",
      "extracted data\\blackassign0041.txt is extcracted from https://insights.blackcoffer.com/ai-human-robotics-machine-future-planet-blackcoffer-thinking-jobs-workplace/\n",
      "extracted data\\blackassign0042.txt is extcracted from https://insights.blackcoffer.com/how-ai-will-change-the-world-blackcoffer/\n",
      "extracted data\\blackassign0043.txt is extcracted from https://insights.blackcoffer.com/future-of-work-how-ai-has-entered-the-workplace/\n",
      "extracted data\\blackassign0044.txt is extcracted from https://insights.blackcoffer.com/ai-tool-alexa-google-assistant-finance-banking-tool-future/\n",
      "extracted data\\blackassign0045.txt is extcracted from https://insights.blackcoffer.com/ai-healthcare-revolution-ml-technology-algorithm-google-analytics-industrialrevolution/\n",
      "extracted data\\blackassign0046.txt is extcracted from https://insights.blackcoffer.com/all-you-need-to-know-about-online-marketing/\n",
      "extracted data\\blackassign0047.txt is extcracted from https://insights.blackcoffer.com/evolution-of-advertising-industry/\n",
      "extracted data\\blackassign0048.txt is extcracted from https://insights.blackcoffer.com/how-data-analytics-can-help-your-business-respond-to-the-impact-of-covid-19/\n",
      "extracted data\\blackassign0050.txt is extcracted from https://insights.blackcoffer.com/environmental-impact-of-the-covid-19-pandemic-lesson-for-the-future/\n",
      "extracted data\\blackassign0051.txt is extcracted from https://insights.blackcoffer.com/how-data-analytics-and-ai-are-used-to-halt-the-covid-19-pandemic/\n",
      "extracted data\\blackassign0052.txt is extcracted from https://insights.blackcoffer.com/difference-between-artificial-intelligence-machine-learning-statistics-and-data-mining/\n",
      "extracted data\\blackassign0053.txt is extcracted from https://insights.blackcoffer.com/how-python-became-the-first-choice-for-data-science/\n",
      "extracted data\\blackassign0054.txt is extcracted from https://insights.blackcoffer.com/how-google-fit-measure-heart-and-respiratory-rates-using-a-phone/\n",
      "extracted data\\blackassign0055.txt is extcracted from https://insights.blackcoffer.com/what-is-the-future-of-mobile-apps/\n",
      "extracted data\\blackassign0056.txt is extcracted from https://insights.blackcoffer.com/impact-of-ai-in-health-and-medicine/\n",
      "extracted data\\blackassign0057.txt is extcracted from https://insights.blackcoffer.com/telemedicine-what-patients-like-and-dislike-about-it/\n",
      "extracted data\\blackassign0058.txt is extcracted from https://insights.blackcoffer.com/how-we-forecast-future-technologies/\n",
      "extracted data\\blackassign0059.txt is extcracted from https://insights.blackcoffer.com/can-robots-tackle-late-life-loneliness/\n",
      "extracted data\\blackassign0060.txt is extcracted from https://insights.blackcoffer.com/embedding-care-robots-into-society-socio-technical-considerations/\n",
      "extracted data\\blackassign0061.txt is extcracted from https://insights.blackcoffer.com/management-challenges-for-future-digitalization-of-healthcare-services/\n",
      "extracted data\\blackassign0062.txt is extcracted from https://insights.blackcoffer.com/are-we-any-closer-to-preventing-a-nuclear-holocaust/\n",
      "extracted data\\blackassign0063.txt is extcracted from https://insights.blackcoffer.com/will-technology-eliminate-the-need-for-animal-testing-in-drug-development/\n",
      "extracted data\\blackassign0064.txt is extcracted from https://insights.blackcoffer.com/will-we-ever-understand-the-nature-of-consciousness/\n",
      "extracted data\\blackassign0065.txt is extcracted from https://insights.blackcoffer.com/will-we-ever-colonize-outer-space/\n",
      "extracted data\\blackassign0066.txt is extcracted from https://insights.blackcoffer.com/what-is-the-chance-homo-sapiens-will-survive-for-the-next-500-years/\n",
      "extracted data\\blackassign0067.txt is extcracted from https://insights.blackcoffer.com/why-does-your-business-need-a-chatbot/\n",
      "extracted data\\blackassign0068.txt is extcracted from https://insights.blackcoffer.com/how-you-lead-a-project-or-a-team-without-any-technical-expertise/\n",
      "extracted data\\blackassign0069.txt is extcracted from https://insights.blackcoffer.com/can-you-be-great-leader-without-technical-expertise/\n",
      "extracted data\\blackassign0070.txt is extcracted from https://insights.blackcoffer.com/how-does-artificial-intelligence-affect-the-environment/\n",
      "extracted data\\blackassign0071.txt is extcracted from https://insights.blackcoffer.com/how-to-overcome-your-fear-of-making-mistakes-2/\n",
      "extracted data\\blackassign0072.txt is extcracted from https://insights.blackcoffer.com/is-perfection-the-greatest-enemy-of-productivity/\n",
      "extracted data\\blackassign0073.txt is extcracted from https://insights.blackcoffer.com/global-financial-crisis-2008-causes-effects-and-its-solution/\n",
      "extracted data\\blackassign0074.txt is extcracted from https://insights.blackcoffer.com/gender-diversity-and-equality-in-the-tech-industry/\n",
      "extracted data\\blackassign0075.txt is extcracted from https://insights.blackcoffer.com/how-to-overcome-your-fear-of-making-mistakes/\n",
      "extracted data\\blackassign0076.txt is extcracted from https://insights.blackcoffer.com/how-small-business-can-survive-the-coronavirus-crisis/\n",
      "extracted data\\blackassign0077.txt is extcracted from https://insights.blackcoffer.com/impacts-of-covid-19-on-vegetable-vendors-and-food-stalls/\n",
      "extracted data\\blackassign0078.txt is extcracted from https://insights.blackcoffer.com/impacts-of-covid-19-on-vegetable-vendors/\n",
      "extracted data\\blackassign0079.txt is extcracted from https://insights.blackcoffer.com/impact-of-covid-19-pandemic-on-tourism-aviation-industries/\n",
      "extracted data\\blackassign0080.txt is extcracted from https://insights.blackcoffer.com/impact-of-covid-19-pandemic-on-sports-events-around-the-world/\n",
      "extracted data\\blackassign0081.txt is extcracted from https://insights.blackcoffer.com/changing-landscape-and-emerging-trends-in-the-indian-it-ites-industry/\n",
      "extracted data\\blackassign0082.txt is extcracted from https://insights.blackcoffer.com/online-gaming-adolescent-online-gaming-effects-demotivated-depression-musculoskeletal-and-psychosomatic-symptoms/\n",
      "extracted data\\blackassign0083.txt is extcracted from https://insights.blackcoffer.com/human-rights-outlook/\n",
      "extracted data\\blackassign0084.txt is extcracted from https://insights.blackcoffer.com/how-voice-search-makes-your-business-a-successful-business/\n",
      "extracted data\\blackassign0085.txt is extcracted from https://insights.blackcoffer.com/how-the-covid-19-crisis-is-redefining-jobs-and-services/\n",
      "extracted data\\blackassign0086.txt is extcracted from https://insights.blackcoffer.com/how-to-increase-social-media-engagement-for-marketers/\n",
      "extracted data\\blackassign0087.txt is extcracted from https://insights.blackcoffer.com/impacts-of-covid-19-on-streets-sides-food-stalls/\n",
      "extracted data\\blackassign0088.txt is extcracted from https://insights.blackcoffer.com/coronavirus-impact-on-energy-markets-2/\n",
      "extracted data\\blackassign0089.txt is extcracted from https://insights.blackcoffer.com/coronavirus-impact-on-the-hospitality-industry-5/\n",
      "extracted data\\blackassign0090.txt is extcracted from https://insights.blackcoffer.com/lessons-from-the-past-some-key-learnings-relevant-to-the-coronavirus-crisis-4/\n",
      "extracted data\\blackassign0091.txt is extcracted from https://insights.blackcoffer.com/estimating-the-impact-of-covid-19-on-the-world-of-work-2/\n",
      "extracted data\\blackassign0092.txt is extcracted from https://insights.blackcoffer.com/estimating-the-impact-of-covid-19-on-the-world-of-work-3/\n",
      "extracted data\\blackassign0093.txt is extcracted from https://insights.blackcoffer.com/travel-and-tourism-outlook/\n",
      "extracted data\\blackassign0094.txt is extcracted from https://insights.blackcoffer.com/gaming-disorder-and-effects-of-gaming-on-health/\n",
      "extracted data\\blackassign0095.txt is extcracted from https://insights.blackcoffer.com/what-is-the-repercussion-of-the-environment-due-to-the-covid-19-pandemic-situation/\n",
      "extracted data\\blackassign0096.txt is extcracted from https://insights.blackcoffer.com/what-is-the-repercussion-of-the-environment-due-to-the-covid-19-pandemic-situation-2/\n",
      "extracted data\\blackassign0097.txt is extcracted from https://insights.blackcoffer.com/impact-of-covid-19-pandemic-on-office-space-and-co-working-industries/\n",
      "extracted data\\blackassign0098.txt is extcracted from https://insights.blackcoffer.com/contribution-of-handicrafts-visual-arts-literature-in-the-indian-economy/\n",
      "extracted data\\blackassign0099.txt is extcracted from https://insights.blackcoffer.com/how-covid-19-is-impacting-payment-preferences/\n",
      "extracted data\\blackassign0100.txt is extcracted from https://insights.blackcoffer.com/how-will-covid-19-affect-the-world-of-work-2/\n"
     ]
    }
   ],
   "source": [
    "def extraction(url,filename):\n",
    "    try:\n",
    "        response=requests.get(url)\n",
    "        soup=BeautifulSoup(response.content,\"html.parser\")\n",
    "        title=soup.title.text.strip()\n",
    "        content=\"\".join([p.text for p in soup.find_all(\"p\")])\n",
    "        with open(filename,\"w\",encoding=\"utf-8\") as file:\n",
    "            file.write(f\"{title}\\n\\n{content}\")\n",
    "        print(f\"{filename} is extcracted from {url}\")\n",
    "    except Exception as e:\n",
    "        print(f\"error in extracting {filename} from {url}\")\n",
    "for index,row in df.iterrows():\n",
    "    url_id=row[\"URL_ID\"]\n",
    "    url=row[\"URL\"]\n",
    "    filename=os.path.join(output_directory,f\"{url_id}.txt\")\n",
    "    extraction(url,filename)"
   ]
  },
  {
   "cell_type": "code",
   "execution_count": null,
   "id": "21fbd78b-7aed-43a0-b524-d136dc9ee7cf",
   "metadata": {},
   "outputs": [],
   "source": []
  }
 ],
 "metadata": {
  "kernelspec": {
   "display_name": "Python 3 (ipykernel)",
   "language": "python",
   "name": "python3"
  },
  "language_info": {
   "codemirror_mode": {
    "name": "ipython",
    "version": 3
   },
   "file_extension": ".py",
   "mimetype": "text/x-python",
   "name": "python",
   "nbconvert_exporter": "python",
   "pygments_lexer": "ipython3",
   "version": "3.12.0"
  }
 },
 "nbformat": 4,
 "nbformat_minor": 5
}
